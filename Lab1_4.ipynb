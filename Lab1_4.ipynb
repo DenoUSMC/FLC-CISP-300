{
  "nbformat": 4,
  "nbformat_minor": 0,
  "metadata": {
    "colab": {
      "provenance": [],
      "toc_visible": true,
      "authorship_tag": "ABX9TyOjj1asSr7ssIcYI4b3yP+R",
      "include_colab_link": true
    },
    "kernelspec": {
      "name": "python3",
      "display_name": "Python 3"
    },
    "language_info": {
      "name": "python"
    }
  },
  "cells": [
    {
      "cell_type": "markdown",
      "metadata": {
        "id": "view-in-github",
        "colab_type": "text"
      },
      "source": [
        "<a href=\"https://colab.research.google.com/github/DenoUSMC/FLC-CISP-300/blob/main/Lab1_4.ipynb\" target=\"_parent\"><img src=\"https://colab.research.google.com/assets/colab-badge.svg\" alt=\"Open In Colab\"/></a>"
      ]
    },
    {
      "cell_type": "code",
      "execution_count": null,
      "metadata": {
        "id": "wlanji_byA5T"
      },
      "outputs": [],
      "source": [
        "# CISP Lab 1\n",
        "# This program, for Lab 1 CISP 3300, takes in student information and calculates\n",
        "# how many credits the student has left before graduation.\n",
        "# This information is then displayed on the screen.\n",
        "\n",
        "# Ask for user input\n",
        "studentName = input(\"Enter student name: \")\n",
        "degreeName = input(\"Enter degree program: \")\n",
        "creditsDegree = float(input(\"Enter the total number of credits required in the degree program: \"))\n",
        "creditsTaken = float(input(\"Enter the number of credits taken so far: \"))\n",
        "\n",
        "# Calculate remaining credits\n",
        "creditsLeft = creditsDegree - creditsTaken\n",
        "\n",
        "# Display student name, degree program, and credits left\n",
        "print(\"The student's name is \", studentName)\n",
        "print(\"The degree program is: \", degreeName)\n",
        "print(\"Credits left to graduation is: \", creditsLeft)"
      ]
    }
  ]
}